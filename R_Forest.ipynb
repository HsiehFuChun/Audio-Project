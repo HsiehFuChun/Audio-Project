{
 "cells": [
  {
   "cell_type": "code",
   "execution_count": 127,
   "metadata": {},
   "outputs": [],
   "source": [
    "import os\n",
    "import tensorflow as tf\n",
    "from tensorflow import keras\n",
    "import keras.layers as layers\n",
    "import numpy as np\n",
    "import matplotlib.pyplot as plt\n",
    "import cv2\n",
    "import imghdr\n",
    "import glob\n",
    "from sklearn.metrics import accuracy_score,confusion_matrix,classification_report\n",
    "%matplotlib inline"
   ]
  },
  {
   "cell_type": "code",
   "execution_count": 128,
   "metadata": {},
   "outputs": [],
   "source": [
    "gpus = tf.config.experimental.list_physical_devices('GPU')\n",
    "for gpu in gpus:\n",
    "    tf.config.experimental.set_memory_growth(gpu, True)"
   ]
  },
  {
   "cell_type": "code",
   "execution_count": 129,
   "metadata": {},
   "outputs": [],
   "source": [
    "ori_dir = './original_sound_png/'\n",
    "conv_dir = './converted_sound_png/'\n",
    "def get_images(directory):\n",
    "    x = []\n",
    "    y = []\n",
    "    png_files = glob.glob(directory+'*/*.png')\n",
    "    for png_file in png_files:\n",
    "        png_image = cv2.imread(png_file, cv2.IMREAD_UNCHANGED)\n",
    "        x.append(png_image)\n",
    "        y.append(png_file.split('/')[-1][:4])\n",
    "    return x, y"
   ]
  },
  {
   "cell_type": "code",
   "execution_count": 130,
   "metadata": {},
   "outputs": [
    {
     "name": "stdout",
     "output_type": "stream",
     "text": [
      "40\n",
      "1240\n",
      "['p225', 'p225', 'p225', 'p225', 'p225', 'p225', 'p225', 'p225', 'p225', 'p225', 'p227', 'p227', 'p227', 'p227', 'p227', 'p227', 'p227', 'p227', 'p227', 'p227', 'p226', 'p226', 'p226', 'p226', 'p226', 'p226', 'p226', 'p226', 'p226', 'p226', 'p228', 'p228', 'p228', 'p228', 'p228', 'p228', 'p228', 'p228', 'p228', 'p228']\n"
     ]
    }
   ],
   "source": [
    "X_train, y_train = get_images(ori_dir)\n",
    "print(len(X_train))\n",
    "X_test, y_test = get_images(conv_dir)\n",
    "print(len(X_test))\n",
    "print(y_train)"
   ]
  },
  {
   "cell_type": "code",
   "execution_count": 131,
   "metadata": {},
   "outputs": [],
   "source": [
    "# (x_train, y_train), (x_test, y_test) = keras.datasets.cifar10.load_data()\n",
    "# print(y_train.shape)"
   ]
  },
  {
   "cell_type": "code",
   "execution_count": 132,
   "metadata": {},
   "outputs": [],
   "source": [
    "#preprocessing\n",
    "X_train = np.array(X_train)\n",
    "X_test = np.array(X_test)\n",
    "X_train = X_train/255.0\n",
    "X_test = X_test/255.0"
   ]
  },
  {
   "cell_type": "code",
   "execution_count": 133,
   "metadata": {},
   "outputs": [],
   "source": [
    "nsamples, nx, ny, nrgb = X_train.shape\n",
    "X_train = X_train.reshape(nsamples, nx*ny*nrgb)\n",
    "nsamples, nx, ny, nrgb = X_test.shape\n",
    "X_test = X_test.reshape(nsamples, nx*ny*nrgb)"
   ]
  },
  {
   "cell_type": "code",
   "execution_count": 134,
   "metadata": {},
   "outputs": [],
   "source": [
    "from sklearn.ensemble import RandomForestClassifier\n",
    "model = RandomForestClassifier()\n",
    "model.fit(X_train, y_train)\n",
    "y_pred = model.predict(X_test)"
   ]
  },
  {
   "cell_type": "code",
   "execution_count": 135,
   "metadata": {},
   "outputs": [
    {
     "name": "stdout",
     "output_type": "stream",
     "text": [
      "0.2645161290322581\n",
      "              precision    recall  f1-score   support\n",
      "\n",
      "        p225       0.23      0.17      0.20       415\n",
      "        p226       0.36      0.27      0.31       410\n",
      "        p227       0.30      0.48      0.37       191\n",
      "        p228       0.17      0.24      0.20       224\n",
      "\n",
      "    accuracy                           0.26      1240\n",
      "   macro avg       0.26      0.29      0.27      1240\n",
      "weighted avg       0.27      0.26      0.26      1240\n",
      "\n"
     ]
    },
    {
     "data": {
      "text/plain": [
       "array([[ 71, 116, 141,  87],\n",
       "       [134, 112,  28, 136],\n",
       "       [ 60,   5,  92,  34],\n",
       "       [ 45,  77,  49,  53]])"
      ]
     },
     "execution_count": 135,
     "metadata": {},
     "output_type": "execute_result"
    }
   ],
   "source": [
    "print(accuracy_score(y_pred, y_test))\n",
    "print(classification_report(y_pred, y_test))\n",
    "confusion_matrix(y_pred, y_test)"
   ]
  },
  {
   "cell_type": "code",
   "execution_count": null,
   "metadata": {},
   "outputs": [],
   "source": []
  }
 ],
 "metadata": {
  "kernelspec": {
   "display_name": "mlp",
   "language": "python",
   "name": "python3"
  },
  "language_info": {
   "codemirror_mode": {
    "name": "ipython",
    "version": 3
   },
   "file_extension": ".py",
   "mimetype": "text/x-python",
   "name": "python",
   "nbconvert_exporter": "python",
   "pygments_lexer": "ipython3",
   "version": "3.8.16"
  },
  "orig_nbformat": 4
 },
 "nbformat": 4,
 "nbformat_minor": 2
}
